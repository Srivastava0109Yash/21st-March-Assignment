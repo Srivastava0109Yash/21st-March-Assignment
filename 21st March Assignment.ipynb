{
 "cells": [
  {
   "cell_type": "markdown",
   "id": "02ea747a",
   "metadata": {},
   "source": [
    "### Q1. What is the difference between Ordinal Encoding and Label Encoding? Provide an example of when you might choose one over the other."
   ]
  },
  {
   "cell_type": "markdown",
   "id": "dfe0e79f",
   "metadata": {},
   "source": [
    "__Ordinal Encoding__ is a method of converting categorical data into numerical data by assigning a unique integer value to each category based on their order or rank. For example, if we have a categorical variable called \"Size\" with categories \"Small,\" \"Medium,\" and \"Large,\" we could assign the values of 1, 2, and 3 to these categories, respectively, based on their order.\n",
    "\n",
    "__Label Encoding__ is a method of converting categorical data into numerical data by assigning a unique integer value to each category without any particular order. For example, if we have a categorical variable called \"Color\" with categories \"Red,\" \"Green,\" and \"Blue,\" we could assign the values of 1, 2, and 3 to these categories, respectively, without any specific order\n",
    "\n",
    "- For example, if we are working with a dataset that contains a categorical variable called \"Education Level\" with categories \"High School,\" \"College,\" and \"Graduate School,\" Ordinal Encoding would be the better choice as the categories have a natural order. However, if we have a categorical variable called \"Car Make\" with categories such as \"Ford,\" \"Chevrolet,\" and \"Toyota,\" Label Encoding would be the more appropriate choice."
   ]
  },
  {
   "cell_type": "code",
   "execution_count": null,
   "id": "6d2e9dbe",
   "metadata": {},
   "outputs": [],
   "source": []
  },
  {
   "cell_type": "markdown",
   "id": "6b325bd1",
   "metadata": {},
   "source": [
    "### Q2. Explain how Target Guided Ordinal Encoding works and provide an example of when you might use it in a machine learning project."
   ]
  },
  {
   "cell_type": "markdown",
   "id": "c12433c4",
   "metadata": {},
   "source": [
    "__Target Guided Ordinal Encoding__ is a method of converting categorical data into numerical data by assigning ordinal values based on the relationship between the categories and the target variable. \n",
    "\n",
    "The steps involved in Target Guided Ordinal Encoding are as follows:\n",
    "\n",
    "- Calculate the mean or median of the target variable for each category in the categorical variable.\n",
    "- Order the categories based on the mean or median of the target variable in ascending or descending order.\n",
    "- Assign an ordinal value to each category based on their order."
   ]
  },
  {
   "cell_type": "markdown",
   "id": "eb6313da",
   "metadata": {},
   "source": [
    "For example, suppose we have a dataset containing information about employees, including their age, education level, and salary, and we want to predict whether they will leave the company. The categorical variable is \"education level,\" which has categories such as \"High School,\" \"College,\" and \"Graduate School.\"\n",
    "\n",
    "To use Target Guided Ordinal Encoding, we would follow these steps:\n",
    "\n",
    "- Calculate the mean or median salary for each education level category.\n",
    "- Order the categories based on their median salary in ascending or descending order.\n",
    "- Assign an ordinal value to each category based on their order, such as 1 for \"High School,\" 2 for \"College,\" and 3 for \"Graduate School.\"\n",
    "\n",
    "By using Target Guided Ordinal Encoding, we can capture the relationship between the education level and salary variables, which may be useful in predicting whether an employee will leave the company."
   ]
  },
  {
   "cell_type": "code",
   "execution_count": null,
   "id": "24654bcd",
   "metadata": {},
   "outputs": [],
   "source": []
  },
  {
   "cell_type": "markdown",
   "id": "cb044c05",
   "metadata": {},
   "source": [
    "### Q3. Define covariance and explain why it is important in statistical analysis. How is covariance calculated?"
   ]
  },
  {
   "cell_type": "markdown",
   "id": "c6eb9f12",
   "metadata": {},
   "source": [
    "__Covariance__ is a measure of the linear relationship between two variables. It measures how two variables change together, and whether they have a positive or negative relationship. Specifically, covariance measures the extent to which changes in one variable are associated with changes in another variable.\n",
    "\n",
    "__Importance__:<br>\n",
    "Covariance is important in statistical analysis because it helps to identify patterns and relationships between variables. It can be used to determine whether two variables are positively or negatively correlated, or whether they are independent of each other\n",
    "\n",
    "The formula for calculating the covariance between two variables X and Y is:\n",
    "\n",
    "Cov(x,y) = (1/n) * Σ[(xi - x_mean)*(yi - y_mean)]\n",
    "\n",
    "- where xi and yi are the individual values of the two variables\n",
    "- x_mean and y_mean are their respective means,\n",
    "- n is the number of data points."
   ]
  },
  {
   "cell_type": "code",
   "execution_count": null,
   "id": "82b565ac",
   "metadata": {},
   "outputs": [],
   "source": []
  },
  {
   "cell_type": "markdown",
   "id": "89d0b961",
   "metadata": {},
   "source": [
    "### Q4. For a dataset with the following categorical variables: Color (red, green, blue), Size (small, medium, large), and Material (wood, metal, plastic), perform label encoding using Python's scikit-learn library. Show your code and explain the output."
   ]
  },
  {
   "cell_type": "code",
   "execution_count": 1,
   "id": "13a21003",
   "metadata": {},
   "outputs": [
    {
     "name": "stderr",
     "output_type": "stream",
     "text": [
      "C:\\ProgramData\\Anaconda3\\lib\\site-packages\\sklearn\\utils\\validation.py:63: DataConversionWarning: A column-vector y was passed when a 1d array was expected. Please change the shape of y to (n_samples, ), for example using ravel().\n",
      "  return f(*args, **kwargs)\n"
     ]
    }
   ],
   "source": [
    "import pandas as pd\n",
    "\n",
    "df=pd.DataFrame({\n",
    "    'Color':['red','green','blue'],\n",
    "    'Size':['small','medium','large'],\n",
    "    'Material':['wood','metal','plastic']\n",
    "})\n",
    "\n",
    "from sklearn.preprocessing import LabelEncoder\n",
    "\n",
    "encoder=LabelEncoder()\n",
    "\n",
    "# Encode categorical variables\n",
    "df['Color']=encoder.fit_transform(df[['Color']])\n",
    "df['Size']=encoder.fit_transform(df[['Size']])\n",
    "df['Material']=encoder.fit_transform(df[['Material']])"
   ]
  },
  {
   "cell_type": "code",
   "execution_count": 2,
   "id": "52ee7cb8",
   "metadata": {},
   "outputs": [
    {
     "data": {
      "text/html": [
       "<div>\n",
       "<style scoped>\n",
       "    .dataframe tbody tr th:only-of-type {\n",
       "        vertical-align: middle;\n",
       "    }\n",
       "\n",
       "    .dataframe tbody tr th {\n",
       "        vertical-align: top;\n",
       "    }\n",
       "\n",
       "    .dataframe thead th {\n",
       "        text-align: right;\n",
       "    }\n",
       "</style>\n",
       "<table border=\"1\" class=\"dataframe\">\n",
       "  <thead>\n",
       "    <tr style=\"text-align: right;\">\n",
       "      <th></th>\n",
       "      <th>Color</th>\n",
       "      <th>Size</th>\n",
       "      <th>Material</th>\n",
       "    </tr>\n",
       "  </thead>\n",
       "  <tbody>\n",
       "    <tr>\n",
       "      <th>0</th>\n",
       "      <td>2</td>\n",
       "      <td>2</td>\n",
       "      <td>2</td>\n",
       "    </tr>\n",
       "    <tr>\n",
       "      <th>1</th>\n",
       "      <td>1</td>\n",
       "      <td>1</td>\n",
       "      <td>0</td>\n",
       "    </tr>\n",
       "    <tr>\n",
       "      <th>2</th>\n",
       "      <td>0</td>\n",
       "      <td>0</td>\n",
       "      <td>1</td>\n",
       "    </tr>\n",
       "  </tbody>\n",
       "</table>\n",
       "</div>"
      ],
      "text/plain": [
       "   Color  Size  Material\n",
       "0      2     2         2\n",
       "1      1     1         0\n",
       "2      0     0         1"
      ]
     },
     "execution_count": 2,
     "metadata": {},
     "output_type": "execute_result"
    }
   ],
   "source": [
    "df"
   ]
  },
  {
   "cell_type": "markdown",
   "id": "4a918c1a",
   "metadata": {},
   "source": [
    "In this output, we can see that each categorical variable has been replaced with a numerical label. For example, the \"Color\" variable now has the labels 0, 1, and 2, which correspond to the original values \"blue\", \"green\", and \"red\", respectively. Similarly, the \"Size\" variable has the labels 0, 1, and 2, which correspond to the original values \"large\", \"medium\", and \"small\", respectively."
   ]
  },
  {
   "cell_type": "code",
   "execution_count": null,
   "id": "1f9119b9",
   "metadata": {},
   "outputs": [],
   "source": []
  },
  {
   "cell_type": "markdown",
   "id": "c79954b6",
   "metadata": {},
   "source": [
    "### Q5. Calculate the covariance matrix for the following variables in a dataset: Age, Income, and Education level. Interpret the results."
   ]
  },
  {
   "cell_type": "code",
   "execution_count": 20,
   "id": "ac310d11",
   "metadata": {},
   "outputs": [],
   "source": [
    "import numpy as np\n",
    "\n",
    "data = pd.DataFrame({\n",
    "'age' :[30, 40, 50, 35, 45, 55],\n",
    "'income':[50000, 60000, 70000, 45000, 55000, 65000],\n",
    "'education': [12, 16, 20, 14, 18, 22]\n",
    "})\n",
    "\n",
    "matrix=data.cov()"
   ]
  },
  {
   "cell_type": "code",
   "execution_count": 21,
   "id": "ff52f56e",
   "metadata": {},
   "outputs": [
    {
     "data": {
      "text/html": [
       "<div>\n",
       "<style scoped>\n",
       "    .dataframe tbody tr th:only-of-type {\n",
       "        vertical-align: middle;\n",
       "    }\n",
       "\n",
       "    .dataframe tbody tr th {\n",
       "        vertical-align: top;\n",
       "    }\n",
       "\n",
       "    .dataframe thead th {\n",
       "        text-align: right;\n",
       "    }\n",
       "</style>\n",
       "<table border=\"1\" class=\"dataframe\">\n",
       "  <thead>\n",
       "    <tr style=\"text-align: right;\">\n",
       "      <th></th>\n",
       "      <th>age</th>\n",
       "      <th>income</th>\n",
       "      <th>education</th>\n",
       "    </tr>\n",
       "  </thead>\n",
       "  <tbody>\n",
       "    <tr>\n",
       "      <th>age</th>\n",
       "      <td>87.5</td>\n",
       "      <td>72500.0</td>\n",
       "      <td>35.0</td>\n",
       "    </tr>\n",
       "    <tr>\n",
       "      <th>income</th>\n",
       "      <td>72500.0</td>\n",
       "      <td>87500000.0</td>\n",
       "      <td>29000.0</td>\n",
       "    </tr>\n",
       "    <tr>\n",
       "      <th>education</th>\n",
       "      <td>35.0</td>\n",
       "      <td>29000.0</td>\n",
       "      <td>14.0</td>\n",
       "    </tr>\n",
       "  </tbody>\n",
       "</table>\n",
       "</div>"
      ],
      "text/plain": [
       "               age      income  education\n",
       "age           87.5     72500.0       35.0\n",
       "income     72500.0  87500000.0    29000.0\n",
       "education     35.0     29000.0       14.0"
      ]
     },
     "execution_count": 21,
     "metadata": {},
     "output_type": "execute_result"
    }
   ],
   "source": [
    "matrix"
   ]
  },
  {
   "cell_type": "markdown",
   "id": "3b149a8a",
   "metadata": {},
   "source": [
    "This matrix shows the covariances between each pair of variables. The diagonal elements of the matrix represent the variances of each variable, and the off-diagonal elements represent the covariances between pairs of variables.\n",
    "\n",
    "For example, the covariance between Age and Income is 72500.0, which indicates a positive relationship between these two variables. This means that as Age increases, Income tends to increase as well. Similarly, the covariance between Age and Education level is 16.1, indicating a weaker positive relationship between these two variables."
   ]
  },
  {
   "cell_type": "code",
   "execution_count": null,
   "id": "f90d5ef0",
   "metadata": {},
   "outputs": [],
   "source": []
  },
  {
   "cell_type": "markdown",
   "id": "821ed24f",
   "metadata": {},
   "source": [
    "### Q6. You are working on a machine learning project with a dataset containing several categorical variables, including \"Gender\" (Male/Female), \"Education Level\" (High School/Bachelor's/Master's/PhD), and \"Employment Status\" (Unemployed/Part-Time/Full-Time). Which encoding method would you use for each variable, and why?"
   ]
  },
  {
   "cell_type": "markdown",
   "id": "ce07de8c",
   "metadata": {},
   "source": [
    "__\"Gender\": Binary Encoding__<br>\n",
    "Binary encoding would be a suitable choice for \"Gender\" since there are only two categories (Male/Female). Binary encoding will convert each category into a binary representation, with one column representing the presence or absence of each category. This would result in two columns, one for Male and one for Female, with values of 0 or 1 indicating the absence or presence of each category. \n",
    "\n",
    "__\"Education Level\": Ordinal Encoding__<br>\n",
    "Ordinal encoding would be a suitable choice for \"Education Level\" since there is a natural order to the categories (High School < Bachelor's < Master's < PhD). Ordinal encoding will assign a unique integer value to each category based on their order. \n",
    "\n",
    "__\"Employment Status\": One-Hot Encoding__<br>\n",
    "One-hot encoding would be a suitable choice for \"Employment Status\" since there is no inherent order to the categories (Unemployed/Part-Time/Full-Time). One-hot encoding will convert each category into a binary representation, with one column representing the presence or absence of each category. This would result in three columns, one for each category, with values of 0 or 1 indicating the absence or presence of each category. "
   ]
  },
  {
   "cell_type": "code",
   "execution_count": null,
   "id": "021b7b4c",
   "metadata": {},
   "outputs": [],
   "source": []
  },
  {
   "cell_type": "markdown",
   "id": "830a0d50",
   "metadata": {},
   "source": [
    "### Q7. You are analyzing a dataset with two continuous variables, \"Temperature\" and \"Humidity\", and two categorical variables, \"Weather Condition\" (Sunny/Cloudy/Rainy) and \"Wind Direction\" (North/South/ East/West). Calculate the covariance between each pair of variables and interpret the results."
   ]
  },
  {
   "cell_type": "code",
   "execution_count": 17,
   "id": "9b2e5e34",
   "metadata": {},
   "outputs": [
    {
     "data": {
      "text/html": [
       "<div>\n",
       "<style scoped>\n",
       "    .dataframe tbody tr th:only-of-type {\n",
       "        vertical-align: middle;\n",
       "    }\n",
       "\n",
       "    .dataframe tbody tr th {\n",
       "        vertical-align: top;\n",
       "    }\n",
       "\n",
       "    .dataframe thead th {\n",
       "        text-align: right;\n",
       "    }\n",
       "</style>\n",
       "<table border=\"1\" class=\"dataframe\">\n",
       "  <thead>\n",
       "    <tr style=\"text-align: right;\">\n",
       "      <th></th>\n",
       "      <th>Temperature</th>\n",
       "      <th>Humidity</th>\n",
       "    </tr>\n",
       "  </thead>\n",
       "  <tbody>\n",
       "    <tr>\n",
       "      <th>Temperature</th>\n",
       "      <td>4.933333</td>\n",
       "      <td>-1.666667</td>\n",
       "    </tr>\n",
       "    <tr>\n",
       "      <th>Humidity</th>\n",
       "      <td>-1.666667</td>\n",
       "      <td>229.166667</td>\n",
       "    </tr>\n",
       "  </tbody>\n",
       "</table>\n",
       "</div>"
      ],
      "text/plain": [
       "             Temperature    Humidity\n",
       "Temperature     4.933333   -1.666667\n",
       "Humidity       -1.666667  229.166667"
      ]
     },
     "execution_count": 17,
     "metadata": {},
     "output_type": "execute_result"
    }
   ],
   "source": [
    "import pandas as pd\n",
    "\n",
    "# Create a sample dataset with two continuous variables and two categorical variables\n",
    "data = pd.DataFrame({\n",
    "    'Temperature': [20, 22, 25, 18, 21, 23, 24, 19, 20, 22],\n",
    "    'Humidity': [45, 50, 55, 60, 65, 70, 75, 80, 85, 90],\n",
    "    'Weather Condition': [\"Sunny\", \"Sunny\", \"Cloudy\", \"Rainy\", \"Sunny\", \"Cloudy\", \"Rainy\", \"Sunny\", \"Cloudy\", \"Rainy\"],\n",
    "    'Wind Direction': [\"North\", \"South\", \"East\", \"West\", \"North\", \"South\", \"East\", \"West\", \"North\", \"South\"]\n",
    "})\n",
    "\n",
    "# Calculate the covariance matrix\n",
    "cov_matrix = data.cov()\n",
    "\n",
    "# Print the covariance matrix\n",
    "cov_matrix"
   ]
  },
  {
   "cell_type": "markdown",
   "id": "8adbc81c",
   "metadata": {},
   "source": [
    "In this example, the covariance between temperature and humidity is -1.666667, which indicates a negative relationship between the two variables. This means that as temperature increases, humidity tends to decrease, and vice versa. However, the magnitude of the covariance is relatively small compared to the variances of the individual variables, which are 4.933333 (temperature) and 229.166667 (humidity). Therefore, we can conclude that the relationship between temperature and humidity is weak."
   ]
  },
  {
   "cell_type": "code",
   "execution_count": null,
   "id": "d40b1e59",
   "metadata": {},
   "outputs": [],
   "source": []
  }
 ],
 "metadata": {
  "kernelspec": {
   "display_name": "Python 3 (ipykernel)",
   "language": "python",
   "name": "python3"
  },
  "language_info": {
   "codemirror_mode": {
    "name": "ipython",
    "version": 3
   },
   "file_extension": ".py",
   "mimetype": "text/x-python",
   "name": "python",
   "nbconvert_exporter": "python",
   "pygments_lexer": "ipython3",
   "version": "3.9.7"
  }
 },
 "nbformat": 4,
 "nbformat_minor": 5
}
